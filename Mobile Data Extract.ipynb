{
 "cells": [
  {
   "cell_type": "code",
   "execution_count": 1,
   "id": "25112cfe-b39a-4675-8914-151e5a32186f",
   "metadata": {},
   "outputs": [],
   "source": [
    "from bs4 import BeautifulSoup\n",
    "import requests\n",
    "import pandas as pd\n",
    "\n",
    "url=\"https://www.whatmobile.com.pk/\"\n",
    "r=requests.get(url)\n",
    "\n",
    "soup=BeautifulSoup(r.text,'lxml')\n",
    "box=soup.find_all(\"ul\",class_=\"product-list\")\n",
    "\n",
    "Name=[]\n",
    "Price=[]\n",
    "\n",
    "for i in box:\n",
    "    names=i.find_all(\"h4\",class_=\"p4 biggertext\")\n",
    "    prices=i.find_all(\"span\", class_=\"PriceFont\")\n",
    "\n",
    "    for j in names:\n",
    "        p=j.text.strip()\n",
    "        Name.append(p)\n",
    "    for j in prices:\n",
    "        p=j.text.strip()\n",
    "        Price.append(p)\n",
    "\n",
    "Price\n",
    "\n",
    "df=pd.DataFrame({\"Product Name\":Name,\"Product Price\":Price})\n",
    "df.to_csv(\"Extracted Mobile Products.csv\")"
   ]
  }
 ],
 "metadata": {
  "kernelspec": {
   "display_name": "Python 3 (ipykernel)",
   "language": "python",
   "name": "python3"
  },
  "language_info": {
   "codemirror_mode": {
    "name": "ipython",
    "version": 3
   },
   "file_extension": ".py",
   "mimetype": "text/x-python",
   "name": "python",
   "nbconvert_exporter": "python",
   "pygments_lexer": "ipython3",
   "version": "3.12.4"
  }
 },
 "nbformat": 4,
 "nbformat_minor": 5
}
